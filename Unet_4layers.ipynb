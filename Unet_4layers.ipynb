{
  "nbformat": 4,
  "nbformat_minor": 0,
  "metadata": {
    "colab": {
      "provenance": [],
      "gpuType": "V5E1",
      "authorship_tag": "ABX9TyOUeTspXPQ4ZwEriga4IHf3",
      "include_colab_link": true
    },
    "kernelspec": {
      "name": "python3",
      "display_name": "Python 3"
    },
    "language_info": {
      "name": "python"
    },
    "accelerator": "TPU"
  },
  "cells": [
    {
      "cell_type": "markdown",
      "metadata": {
        "id": "view-in-github",
        "colab_type": "text"
      },
      "source": [
        "<a href=\"https://colab.research.google.com/github/Remi908/Diffusion_Model/blob/main/Unet_4layers.ipynb\" target=\"_parent\"><img src=\"https://colab.research.google.com/assets/colab-badge.svg\" alt=\"Open In Colab\"/></a>"
      ]
    },
    {
      "cell_type": "code",
      "execution_count": 28,
      "metadata": {
        "id": "3gAbifJJS5xE"
      },
      "outputs": [],
      "source": [
        "import torch\n",
        "import torch.nn as nn\n",
        "import torch.nn.functional as F\n",
        "import numpy as np\n",
        "from torchvision import datasets, transforms\n",
        "from torch.utils.data import DataLoader\n",
        "import matplotlib.pyplot as plt\n",
        "\n",
        " # Smaller Beta Schedule for DDPM\n",
        "def smaller_beta_schedule(timesteps, start=1e-5, end=2e-3):\n",
        "    return torch.linspace(start, end, timesteps)\n",
        "\n",
        " # Cosine Beta Schedule for Improved Noise Scheduling\n",
        "def cosine_beta_schedule(timesteps, s=0.008):\n",
        "    t = torch.arange(timesteps + 1, dtype=torch.float32) / timesteps\n",
        "    alpha_bar = torch.cos((t + s) / (1 + s) * np.pi / 2) ** 2\n",
        "    beta = 1 - (alpha_bar[1:] / alpha_bar[:-1])\n",
        "    beta = torch.clamp(beta, 0.0001, 0.9999)  # Clamp to avoid instability\n",
        "    return beta\n",
        "\n",
        " # Forward Diffusion Function\n",
        "def forward_diffusion(x, t, beta_schedule):\n",
        "    noise = torch.randn_like(x)\n",
        "    alpha = torch.cumprod(1 - beta_schedule, dim=0)\n",
        "    alpha_t = alpha[t].view(-1, 1, 1, 1)  # Adjust dimensions to match input\n",
        "    x_t = torch.sqrt(alpha_t) * x + torch.sqrt(1 - alpha_t) * noise\n",
        "    return x_t, noise"
      ]
    },
    {
      "cell_type": "code",
      "source": [
        "# def double_conv(in_channels, out_channels, kernel_size=5, dropout_rate=0.1):\n",
        "#     \"\"\"\n",
        "#     Two-layer convolutional block with ReLU activation and dropout.\n",
        "\n",
        "#     Args:\n",
        "#         in_channels (int): Number of input channels.\n",
        "#         out_channels (int): Number of output channels.\n",
        "#         kernel_size (int): Size of the convolutional kernel (3x3 or 5x5).\n",
        "#         dropout_rate (float): Dropout probability.\n",
        "\n",
        "#     Returns:\n",
        "#         nn.Sequential: A sequential block of conv layers.\n",
        "#     \"\"\"\n",
        "#     padding = kernel_size // 2  # Ensures the output size remains the same\n",
        "#     return nn.Sequential(\n",
        "#         nn.Conv2d(in_channels, out_channels, kernel_size=kernel_size, padding=padding),\n",
        "#         nn.ReLU(),\n",
        "#         nn.Dropout(dropout_rate),\n",
        "#         nn.Conv2d(out_channels, out_channels, kernel_size=kernel_size, padding=padding),\n",
        "#         nn.ReLU(),\n",
        "#         nn.Dropout(dropout_rate)\n",
        "#     )"
      ],
      "metadata": {
        "id": "ZXULjLtFQfC5"
      },
      "execution_count": 18,
      "outputs": []
    },
    {
      "cell_type": "code",
      "source": [
        "import torch\n",
        "import torch.nn as nn\n",
        "import torch.nn.functional as F\n",
        "\n",
        "def double_conv(in_channels, out_channels, kernel_size=3, dropout_rate=0.1):\n",
        "    \"\"\"\n",
        "    Two-layer convolutional block with ReLU activation and dropout.\n",
        "    \"\"\"\n",
        "    padding = kernel_size // 2  # Ensures the output size remains the same\n",
        "    return nn.Sequential(\n",
        "        nn.Conv2d(in_channels, out_channels, kernel_size=kernel_size, padding=padding),\n",
        "        nn.ReLU(),\n",
        "        nn.Dropout(dropout_rate),\n",
        "        nn.Conv2d(out_channels, out_channels, kernel_size=kernel_size, padding=padding),\n",
        "        nn.ReLU(),\n",
        "        nn.Dropout(dropout_rate)\n",
        "    )\n",
        "\n",
        "class UNet(nn.Module):\n",
        "    \"\"\"\n",
        "    U-Net model with adjusted upsampling to fix size mismatches.\n",
        "    \"\"\"\n",
        "    def __init__(self, kernel_size=3, dropout_rate=0.1):\n",
        "        super().__init__()\n",
        "        # Encoder\n",
        "        self.enc1 = double_conv(2, 64, kernel_size, dropout_rate)\n",
        "        self.enc2 = double_conv(64, 128, kernel_size, dropout_rate)\n",
        "        self.enc3 = double_conv(128, 256, kernel_size, dropout_rate)\n",
        "        self.enc4 = double_conv(256, 512, kernel_size, dropout_rate)  # Added deeper layer\n",
        "\n",
        "        # Decoder\n",
        "        self.dec1 = double_conv(512 + 256, 256, kernel_size, dropout_rate)\n",
        "        self.dec2 = double_conv(256 + 128, 128, kernel_size, dropout_rate)\n",
        "        self.dec3 = double_conv(128 + 64, 64, kernel_size, dropout_rate)\n",
        "        self.out = nn.Conv2d(64, 1, kernel_size=1)  # Final output layer\n",
        "\n",
        "        # Pooling and Upsampling (Fixed using interpolation)\n",
        "        self.pool = nn.MaxPool2d(2)\n",
        "\n",
        "    def forward(self, x):\n",
        "        # Encoding path\n",
        "        e1 = self.enc1(x)\n",
        "        e2 = self.enc2(self.pool(e1))\n",
        "        e3 = self.enc3(self.pool(e2))\n",
        "        e4 = self.enc4(self.pool(e3))\n",
        "\n",
        "        # Decoding path with skip connections (fixed size mismatch)\n",
        "        d1 = self.dec1(torch.cat((F.interpolate(e4, size=e3.shape[2:], mode='bilinear', align_corners=False), e3), dim=1))\n",
        "        d2 = self.dec2(torch.cat((F.interpolate(d1, size=e2.shape[2:], mode='bilinear', align_corners=False), e2), dim=1))\n",
        "        d3 = self.dec3(torch.cat((F.interpolate(d2, size=e1.shape[2:], mode='bilinear', align_corners=False), e1), dim=1))\n",
        "\n",
        "        return self.out(d3)  # Final output\n",
        "\n",
        "# Example usage\n",
        "model = UNet(kernel_size=5, dropout_rate=0.2)\n",
        "print(model)\n"
      ],
      "metadata": {
        "colab": {
          "base_uri": "https://localhost:8080/",
          "height": 0
        },
        "id": "QfpYqlDmQlwh",
        "outputId": "58986a01-5ef9-4db2-daa9-86645b8bfc1c"
      },
      "execution_count": 29,
      "outputs": [
        {
          "output_type": "stream",
          "name": "stdout",
          "text": [
            "UNet(\n",
            "  (enc1): Sequential(\n",
            "    (0): Conv2d(2, 64, kernel_size=(5, 5), stride=(1, 1), padding=(2, 2))\n",
            "    (1): ReLU()\n",
            "    (2): Dropout(p=0.2, inplace=False)\n",
            "    (3): Conv2d(64, 64, kernel_size=(5, 5), stride=(1, 1), padding=(2, 2))\n",
            "    (4): ReLU()\n",
            "    (5): Dropout(p=0.2, inplace=False)\n",
            "  )\n",
            "  (enc2): Sequential(\n",
            "    (0): Conv2d(64, 128, kernel_size=(5, 5), stride=(1, 1), padding=(2, 2))\n",
            "    (1): ReLU()\n",
            "    (2): Dropout(p=0.2, inplace=False)\n",
            "    (3): Conv2d(128, 128, kernel_size=(5, 5), stride=(1, 1), padding=(2, 2))\n",
            "    (4): ReLU()\n",
            "    (5): Dropout(p=0.2, inplace=False)\n",
            "  )\n",
            "  (enc3): Sequential(\n",
            "    (0): Conv2d(128, 256, kernel_size=(5, 5), stride=(1, 1), padding=(2, 2))\n",
            "    (1): ReLU()\n",
            "    (2): Dropout(p=0.2, inplace=False)\n",
            "    (3): Conv2d(256, 256, kernel_size=(5, 5), stride=(1, 1), padding=(2, 2))\n",
            "    (4): ReLU()\n",
            "    (5): Dropout(p=0.2, inplace=False)\n",
            "  )\n",
            "  (enc4): Sequential(\n",
            "    (0): Conv2d(256, 512, kernel_size=(5, 5), stride=(1, 1), padding=(2, 2))\n",
            "    (1): ReLU()\n",
            "    (2): Dropout(p=0.2, inplace=False)\n",
            "    (3): Conv2d(512, 512, kernel_size=(5, 5), stride=(1, 1), padding=(2, 2))\n",
            "    (4): ReLU()\n",
            "    (5): Dropout(p=0.2, inplace=False)\n",
            "  )\n",
            "  (dec1): Sequential(\n",
            "    (0): Conv2d(768, 256, kernel_size=(5, 5), stride=(1, 1), padding=(2, 2))\n",
            "    (1): ReLU()\n",
            "    (2): Dropout(p=0.2, inplace=False)\n",
            "    (3): Conv2d(256, 256, kernel_size=(5, 5), stride=(1, 1), padding=(2, 2))\n",
            "    (4): ReLU()\n",
            "    (5): Dropout(p=0.2, inplace=False)\n",
            "  )\n",
            "  (dec2): Sequential(\n",
            "    (0): Conv2d(384, 128, kernel_size=(5, 5), stride=(1, 1), padding=(2, 2))\n",
            "    (1): ReLU()\n",
            "    (2): Dropout(p=0.2, inplace=False)\n",
            "    (3): Conv2d(128, 128, kernel_size=(5, 5), stride=(1, 1), padding=(2, 2))\n",
            "    (4): ReLU()\n",
            "    (5): Dropout(p=0.2, inplace=False)\n",
            "  )\n",
            "  (dec3): Sequential(\n",
            "    (0): Conv2d(192, 64, kernel_size=(5, 5), stride=(1, 1), padding=(2, 2))\n",
            "    (1): ReLU()\n",
            "    (2): Dropout(p=0.2, inplace=False)\n",
            "    (3): Conv2d(64, 64, kernel_size=(5, 5), stride=(1, 1), padding=(2, 2))\n",
            "    (4): ReLU()\n",
            "    (5): Dropout(p=0.2, inplace=False)\n",
            "  )\n",
            "  (out): Conv2d(64, 1, kernel_size=(1, 1), stride=(1, 1))\n",
            "  (pool): MaxPool2d(kernel_size=2, stride=2, padding=0, dilation=1, ceil_mode=False)\n",
            ")\n"
          ]
        }
      ]
    },
    {
      "cell_type": "code",
      "source": [
        "# Denoising Model with Time-Step Embeddings\n",
        "class DenoisingModel(nn.Module):\n",
        "    def __init__(self):\n",
        "        super().__init__()\n",
        "        self.unet = UNet()\n",
        "        self.timestep_embedding = nn.Embedding(1000, 28 * 28)\n",
        "    def forward(self, x, t):\n",
        "        t_embed = self.timestep_embedding(t).view(t.size(0), 1, 28, 28)\n",
        "        x = torch.cat((x, t_embed), dim=1)  # Concatenate input and time-step embedding\n",
        "        return self.unet(x)\n",
        " # Data Augmentation for Robust Training\n",
        "transform = transforms.Compose([\n",
        "    transforms.RandomRotation(10),  # Randomly rotate images\n",
        "    transforms.RandomHorizontalFlip(),  # Randomly flip images horizontally\n",
        "    transforms.ToTensor(),  # Convert images to PyTorch tensors\n",
        "    transforms.Normalize((0.5,), (0.5,))  # Normalize to range [-1, 1]\n",
        " ])"
      ],
      "metadata": {
        "id": "byWytXhXQtpp"
      },
      "execution_count": 30,
      "outputs": []
    },
    {
      "cell_type": "code",
      "source": [
        " # Data Preprocessing and Visualization\n",
        "transform = transforms.Compose([\n",
        "    transforms.ToTensor(),  # Convert images to PyTorch tensors\n",
        "    transforms.Normalize((0.5,), (0.5,))  # Normalize to range [-1, 1]\n",
        " ])\n",
        " # Load the MNIST dataset\n",
        "train_dataset = datasets.MNIST(root='./data', train=True, download=True, transform=transform)\n",
        "test_dataset = datasets.MNIST(root='./data', train=False, download=True, transform=transform)\n",
        " # Create DataLoaders for batching and shuffling\n",
        "train_loader = DataLoader(train_dataset, batch_size=64, shuffle=True)\n",
        "test_loader = DataLoader(test_dataset, batch_size=64, shuffle=False)\n",
        " # Visualize the Data\n",
        "def visualize_data(loader):\n",
        "    images, labels = next(iter(loader))\n",
        "    plt.figure(figsize=(8, 8))\n",
        "    for i in range(16):  # Display 16 images\n",
        "        plt.subplot(4, 4, i + 1)\n",
        "        plt.imshow(images[i][0].numpy(), cmap='gray')\n",
        "        plt.axis('off')\n",
        "    plt.tight_layout()\n",
        "    plt.show()\n",
        "visualize_data(train_loader)  # Visualize a batch of training data"
      ],
      "metadata": {
        "colab": {
          "base_uri": "https://localhost:8080/",
          "height": 807
        },
        "id": "2D8qyabmQ3EO",
        "outputId": "b5c7208e-7148-4186-b63e-43ce7e814288"
      },
      "execution_count": 31,
      "outputs": [
        {
          "output_type": "display_data",
          "data": {
            "text/plain": [
              "<Figure size 800x800 with 16 Axes>"
            ],
            "image/png": "[encoded data removed]"
          },
          "metadata": {}
        }
      ]
    },
    {
      "cell_type": "code",
      "source": [
        " # Training Loop\n",
        "def train_model():\n",
        "    timesteps = 1000\n",
        "    beta_schedule = cosine_beta_schedule(timesteps).to(torch.float32)\n",
        "    model = DenoisingModel()\n",
        "    optimizer = torch.optim.AdamW(model.parameters(), lr=1e-4, weight_decay=1e-4)  # Use AdamW with weight decay\n",
        "    loss_fn = nn.MSELoss()\n",
        "    num_epochs = 5\n",
        "    for epoch in range(num_epochs):\n",
        "        epoch_loss = 0\n",
        "        model.train()   # Set the model to training mode\n",
        "        for x, _ in train_loader:\n",
        "            # Generate random timesteps\n",
        "            t = torch.randint(0, timesteps, (x.size(0),), dtype=torch.long)\n",
        "            # Apply forward diffusion to the input\n",
        "            x_t, noise = forward_diffusion(x, t, beta_schedule)\n",
        "            # Predict the noise using the model\n",
        "            pred_noise = model(x_t, t)\n",
        "            # Compute the loss\n",
        "            loss = loss_fn(pred_noise, noise)\n",
        "            # Backpropagation and optimization\n",
        "            optimizer.zero_grad()\n",
        "            loss.backward()\n",
        "            optimizer.step()\n",
        "            # Accumulate epoch loss\n",
        "            epoch_loss += loss.item()\n",
        "        # Display epoch loss\n",
        "        avg_epoch_loss = epoch_loss / len(train_loader)\n",
        "        print(f\"Epoch [{epoch + 1}/{num_epochs}], Loss: {avg_epoch_loss:.4f}\")"
      ],
      "metadata": {
        "id": "uPjOs6FfRDuE"
      },
      "execution_count": 32,
      "outputs": []
    },
    {
      "cell_type": "code",
      "source": [
        "def sample(model, shape, timesteps, beta_schedule):\n",
        "    \"\"\"\n",
        "    Generates samples by reverse diffusion.\n",
        "    Args:\n",
        "        model (nn.Module): Trained denoising model.\n",
        "        shape (tuple): Shape of the output tensor (batch_size, channels, height, width).\n",
        "        timesteps (int): Total number of timesteps.\n",
        "        beta_schedule (torch.Tensor): Predefined beta schedule.\n",
        "    Returns:\n",
        "        torch.Tensor: Generated samples (denoised images).\n",
        "    \"\"\"\n",
        "    model.eval()  # Set the model to evaluation mode\n",
        "    with torch.no_grad():\n",
        "        x = torch.randn(shape)  # Start with random noise\n",
        "        alpha = torch.cumprod(1 - beta_schedule, dim=0)\n",
        "        for t in reversed(range(timesteps)):\n",
        "            beta_t = beta_schedule[t]\n",
        "            alpha_t = alpha[t]\n",
        "            timestep_tensor = torch.full((shape[0],), t, dtype=torch.long)  # Batch of timesteps\n",
        "            pred_noise = model(x, timestep_tensor)  # Predict the noise\n",
        "            x = (x - torch.sqrt(1 - alpha_t) * pred_noise) / torch.sqrt(alpha_t)\n",
        "            if t > 0:  # Add noise unless it's the last step\n",
        "                noise = torch.randn_like(x)\n",
        "                x += torch.sqrt(beta_t) * noise\n",
        "    return x  # Final denoised image"
      ],
      "metadata": {
        "id": "vu2bgr0BRPCC"
      },
      "execution_count": 33,
      "outputs": []
    },
    {
      "cell_type": "code",
      "source": [
        "print(\"Starting training...\")\n",
        "train_model()"
      ],
      "metadata": {
        "colab": {
          "base_uri": "https://localhost:8080/",
          "height": 0
        },
        "id": "eefT2pRPRVfi",
        "outputId": "dc0f997b-d4a8-4bc1-e202-fc37a608c508"
      },
      "execution_count": 34,
      "outputs": [
        {
          "output_type": "stream",
          "name": "stdout",
          "text": [
            "Starting training...\n",
            "Epoch [1/5], Loss: 0.2241\n",
            "Epoch [2/5], Loss: 0.1180\n",
            "Epoch [3/5], Loss: 0.0967\n",
            "Epoch [4/5], Loss: 0.0874\n",
            "Epoch [5/5], Loss: 0.0825\n"
          ]
        }
      ]
    },
    {
      "cell_type": "code",
      "source": [
        " # Function to visualize original, noisy, and reconstructed images\n",
        "def visualize_diffusion_process(model, train_dataset, beta_schedule, timesteps=1000):\n",
        "    \"\"\"\n",
        "    Visualizes the diffusion process:\n",
        "    1. Original image from the dataset.\n",
        "    2. Noisy version of the image at a selected timestep.\n",
        "    3. Reconstructed image after reverse diffusion.\n",
        "    Args:\n",
        "        model (nn.Module): Trained denoising model.\n",
        "        train_dataset (Dataset): Training dataset.\n",
        "        beta_schedule (torch.Tensor): Predefined beta schedule.\n",
        "        timesteps (int): Total number of timesteps.\n",
        "    \"\"\"\n",
        "    # Pick a random image from the dataset\n",
        "    sample_image, _ = train_dataset[0]  # Get the first image (ignore the label)\n",
        "    sample_image = sample_image.unsqueeze(0)  # Add batch dimension\n",
        "    # Apply forward diffusion\n",
        "    t = timesteps // 2  # Pick a midpoint timestep\n",
        "    x_t, noise = forward_diffusion(sample_image, torch.tensor([t]), beta_schedule)\n",
        "    # Apply reverse diffusion\n",
        "    reconstructed_image = sample(model, shape=x_t.shape, timesteps=t, beta_schedule=beta_schedule)\n",
        "    # Visualize original, noisy, and reconstructed images\n",
        "    plt.figure(figsize=(12, 4))\n",
        "    # Original Image\n",
        "    plt.subplot(1, 3, 1)\n",
        "    plt.title(\"Original Image\")\n",
        "    plt.imshow(sample_image[0, 0].cpu().numpy(), cmap='gray')\n",
        "    plt.axis('off')\n",
        "    # Noisy Image\n",
        "    plt.subplot(1, 3, 2)\n",
        "    plt.title(f\"Noisy Image (t={t})\")\n",
        "    plt.imshow(x_t[0, 0].cpu().numpy(), cmap='gray')\n",
        "    plt.axis('off')\n",
        "    # Reconstructed Image\n",
        "    plt.subplot(1, 3, 3)\n",
        "    plt.title(\"Reconstructed Image\")\n",
        "    plt.imshow(reconstructed_image[0, 0].cpu().numpy(), cmap='gray')\n",
        "    plt.axis('off')\n",
        "    plt.tight_layout()\n",
        "    plt.show()\n",
        " # Example Usage\n",
        "if __name__ == \"__main__\":\n",
        "    # Define hyperparameters and initialize beta schedule\n",
        "    timesteps = 1000\n",
        "    beta_schedule = smaller_beta_schedule(timesteps).to(torch.float32)\n",
        "    # Ensure the model is loaded (trained or pre-trained)\n",
        "    model = DenoisingModel()\n",
        "    # Visualize diffusion process\n",
        "    print(\"Visualizing the diffusion process...\")\n",
        "    visualize_diffusion_process(model, train_dataset, beta_schedule, timesteps=timesteps)"
      ],
      "metadata": {
        "colab": {
          "base_uri": "https://localhost:8080/",
          "height": 435
        },
        "id": "z8rwcYm8RdDT",
        "outputId": "d2fb6824-c7a6-492e-ee79-47c452ef1b35"
      },
      "execution_count": 35,
      "outputs": [
        {
          "output_type": "stream",
          "name": "stdout",
          "text": [
            "Visualizing the diffusion process...\n"
          ]
        },
        {
          "output_type": "display_data",
          "data": {
            "text/plain": [
              "<Figure size 1200x400 with 3 Axes>"
            ],
            "image/png": "[encoded data removed]"
          },
          "metadata": {}
        }
      ]
    }
  ]
}